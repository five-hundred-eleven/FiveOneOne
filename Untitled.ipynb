{
 "cells": [
  {
   "cell_type": "code",
   "execution_count": 1,
   "id": "ef119e70-39ea-4911-a6a4-78612197c5b5",
   "metadata": {},
   "outputs": [
    {
     "name": "stdout",
     "output_type": "stream",
     "text": [
      "foo\n",
      "bar\n",
      "foobar\n"
     ]
    }
   ],
   "source": [
    "def f1():\n",
    "    print(\"foo\")\n",
    "    return True\n",
    "def f2():\n",
    "    print(\"bar\")\n",
    "    return True\n",
    "\n",
    "if f1() and f2():\n",
    "    print(\"foobar\")"
   ]
  },
  {
   "cell_type": "code",
   "execution_count": 2,
   "id": "5e2d9f32-9d2b-4624-9648-db1d18740658",
   "metadata": {},
   "outputs": [
    {
     "name": "stdout",
     "output_type": "stream",
     "text": [
      "foo\n"
     ]
    }
   ],
   "source": [
    "def f1():\n",
    "    print(\"foo\")\n",
    "    return False\n",
    "def f2():\n",
    "    print(\"bar\")\n",
    "    return True\n",
    "\n",
    "if f1() and f2():\n",
    "    print(\"foobar\")"
   ]
  },
  {
   "cell_type": "code",
   "execution_count": 65,
   "id": "f656c3e4-855c-4f10-ad3b-870c3512e60d",
   "metadata": {},
   "outputs": [],
   "source": [
    "# run this cell to reset\n",
    "import os\n",
    "\n",
    "downloads = \"/media/shared/downloads\"\n",
    "\n",
    "badpic = os.path.join(downloads, \"bad_picture_of_me.jpg\")\n",
    "badln1 = os.path.join(downloads, \"badln1.jpg\")\n",
    "badln2 = os.path.join(downloads, \"badln2.jpg\")\n",
    "\n",
    "os.system(\"cp %s %s\" % (\n",
    "    os.path.join(downloads, \"865750913430_69208e0bd1db8cfe30f1_original.jpg\"),\n",
    "    badpic,\n",
    "))\n",
    "os.system(\"ln -s %s %s\" % (badpic, badln1,))\n",
    "os.system(\"ln -s %s %s\" % (badpic, badln2,))\n",
    "\n",
    "assert os.path.exists(badpic), badpic\n",
    "assert os.path.exists(badln1), badln1\n",
    "assert os.path.exists(badln2), badln2"
   ]
  },
  {
   "cell_type": "code",
   "execution_count": 55,
   "id": "1cac2644-a1d3-4cff-9f87-00af8235b2c5",
   "metadata": {},
   "outputs": [
    {
     "data": {
      "text/plain": [
       "0"
      ]
     },
     "execution_count": 55,
     "metadata": {},
     "output_type": "execute_result"
    }
   ],
   "source": [
    "os.system(\"rm %s\" % (badpic,))"
   ]
  },
  {
   "cell_type": "code",
   "execution_count": 64,
   "id": "09f30e74-a174-4afe-8e03-0daea2536e2a",
   "metadata": {},
   "outputs": [
    {
     "name": "stdout",
     "output_type": "stream",
     "text": [
      "('found broken symlink', OSError(2, 'No such file or directory'), '/media/shared/downloads/badln1.jpg')\n",
      "('found broken symlink', OSError(2, 'No such file or directory'), '/media/shared/downloads/badln2.jpg')\n"
     ]
    }
   ],
   "source": [
    "for path in os.listdir(downloads):\n",
    "    full_path = os.path.join(downloads, path)\n",
    "    try:\n",
    "        if os.path.islink(full_path) and os.path.samefile(full_path, badln1):\n",
    "            print(\"found symlink to badpic:\", full_path)\n",
    "    except OSError as e:\n",
    "        if not os.path.exists(os.readlink(full_path)):\n",
    "            print(\"found broken symlink\", e, full_path)"
   ]
  },
  {
   "cell_type": "code",
   "execution_count": 36,
   "id": "f4d89fea-2c0e-4b4f-8955-1fe2b0cbb44b",
   "metadata": {},
   "outputs": [
    {
     "data": {
      "text/plain": [
       "256"
      ]
     },
     "execution_count": 36,
     "metadata": {},
     "output_type": "execute_result"
    }
   ],
   "source": [
    "# run this cell to remove badpic\n",
    "\n",
    "os.system(\"rm %s %s %s\" % (badpic, bad1, bad2,))"
   ]
  },
  {
   "cell_type": "code",
   "execution_count": 63,
   "id": "847f7e8d-9409-4e8e-973e-7be716bc9dd0",
   "metadata": {},
   "outputs": [
    {
     "data": {
      "text/plain": [
       "False"
      ]
     },
     "execution_count": 63,
     "metadata": {},
     "output_type": "execute_result"
    }
   ],
   "source": []
  },
  {
   "cell_type": "code",
   "execution_count": 2,
   "id": "f9692253-c24d-40de-8081-4e9109376a4b",
   "metadata": {},
   "outputs": [
    {
     "data": {
      "text/plain": [
       "86400"
      ]
     },
     "execution_count": 2,
     "metadata": {},
     "output_type": "execute_result"
    }
   ],
   "source": [
    "seconds_per_day = 60 * 60 * 24\n",
    "seconds_per_day"
   ]
  },
  {
   "cell_type": "code",
   "execution_count": 4,
   "id": "19c19818-6338-439a-92fd-c7014bb7af10",
   "metadata": {},
   "outputs": [
    {
     "data": {
      "text/plain": [
       "90.0"
      ]
     },
     "execution_count": 4,
     "metadata": {},
     "output_type": "execute_result"
    }
   ],
   "source": [
    "seconds_per_day / 16. / 60."
   ]
  },
  {
   "cell_type": "code",
   "execution_count": 5,
   "id": "e2c5651c-8a49-42ee-8455-8dcccdc2ef6b",
   "metadata": {},
   "outputs": [
    {
     "data": {
      "text/plain": [
       "0.703125"
      ]
     },
     "execution_count": 5,
     "metadata": {},
     "output_type": "execute_result"
    }
   ],
   "source": [
    "90. / 128"
   ]
  },
  {
   "cell_type": "code",
   "execution_count": 6,
   "id": "d54acce2-4fb9-447c-88df-4c701193dbf9",
   "metadata": {},
   "outputs": [
    {
     "data": {
      "text/plain": [
       "42.1875"
      ]
     },
     "execution_count": 6,
     "metadata": {},
     "output_type": "execute_result"
    }
   ],
   "source": [
    "60 * (90. / 128)"
   ]
  },
  {
   "cell_type": "code",
   "execution_count": 9,
   "id": "cd10ab67-befa-4c5b-aa76-95f1b607f9d7",
   "metadata": {},
   "outputs": [
    {
     "data": {
      "text/plain": [
       "128"
      ]
     },
     "execution_count": 9,
     "metadata": {},
     "output_type": "execute_result"
    }
   ],
   "source": [
    "0x80"
   ]
  },
  {
   "cell_type": "code",
   "execution_count": 10,
   "id": "6b68364c-06be-4f49-8f5d-990663649fff",
   "metadata": {},
   "outputs": [
    {
     "ename": "ImportError",
     "evalue": "No module named numpy",
     "output_type": "error",
     "traceback": [
      "\u001b[0;31m---------------------------------------------------------------------------\u001b[0m",
      "\u001b[0;31mImportError\u001b[0m                               Traceback (most recent call last)",
      "\u001b[0;32m<ipython-input-10-485a6f5b870a>\u001b[0m in \u001b[0;36m<module>\u001b[0;34m()\u001b[0m\n\u001b[0;32m----> 1\u001b[0;31m \u001b[0;32mimport\u001b[0m \u001b[0mnumpy\u001b[0m\u001b[0;34m\u001b[0m\u001b[0m\n\u001b[0m\u001b[1;32m      2\u001b[0m \u001b[0;34m\u001b[0m\u001b[0m\n\u001b[1;32m      3\u001b[0m \u001b[0mnumpy\u001b[0m\u001b[0;34m.\u001b[0m\u001b[0mzeroes\u001b[0m\u001b[0;34m(\u001b[0m\u001b[0;36m10\u001b[0m\u001b[0;34m)\u001b[0m\u001b[0;34m\u001b[0m\u001b[0m\n",
      "\u001b[0;31mImportError\u001b[0m: No module named numpy"
     ]
    }
   ],
   "source": [
    "import numpy\n",
    "\n",
    "numpy.zeroes(10)"
   ]
  },
  {
   "cell_type": "code",
   "execution_count": null,
   "id": "2b16c3a8-2f1f-4b10-82ac-068e6d48a16b",
   "metadata": {},
   "outputs": [],
   "source": []
  }
 ],
 "metadata": {
  "kernelspec": {
   "display_name": "python2.7",
   "language": "python",
   "name": "python2.7"
  },
  "language_info": {
   "codemirror_mode": {
    "name": "ipython",
    "version": 2
   },
   "file_extension": ".py",
   "mimetype": "text/x-python",
   "name": "python",
   "nbconvert_exporter": "python",
   "pygments_lexer": "ipython2",
   "version": "2.7.18"
  }
 },
 "nbformat": 4,
 "nbformat_minor": 5
}
