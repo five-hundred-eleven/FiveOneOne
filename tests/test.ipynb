{
 "cells": [
  {
   "cell_type": "code",
   "execution_count": 26,
   "metadata": {
    "colab": {
     "base_uri": "https://localhost:8080/",
     "height": 477
    },
    "colab_type": "code",
    "id": "epunV53yfi9e",
    "outputId": "cf4b4d7d-e2db-487c-ed05-e04a15553a11"
   },
   "outputs": [
    {
     "name": "stdout",
     "output_type": "stream",
     "text": [
      "Collecting five-one-one\n",
      "  Downloading five-one-one-1.4.5.tar.gz (2.8 kB)\n",
      "Requirement already satisfied, skipping upgrade: beautifulsoup4 in /usr/lib/python3/dist-packages (from five-one-one) (4.8.2)\n",
      "Requirement already satisfied, skipping upgrade: numpy in /usr/lib/python3/dist-packages (from five-one-one) (1.17.4)\n",
      "Requirement already satisfied, skipping upgrade: pandas in /home/ecow/.local/lib/python3.8/site-packages (from five-one-one) (1.3.2)\n",
      "Requirement already satisfied, skipping upgrade: scikit-learn in /home/ecow/.local/lib/python3.8/site-packages (from five-one-one) (0.24.2)\n",
      "Requirement already satisfied, skipping upgrade: spacy in /home/ecow/.local/lib/python3.8/site-packages (from five-one-one) (3.1.2)\n",
      "Requirement already satisfied, skipping upgrade: pytz>=2017.3 in /usr/lib/python3/dist-packages (from pandas->five-one-one) (2019.3)\n",
      "Requirement already satisfied, skipping upgrade: python-dateutil>=2.7.3 in /usr/lib/python3/dist-packages (from pandas->five-one-one) (2.7.3)\n",
      "Requirement already satisfied, skipping upgrade: joblib>=0.11 in /home/ecow/.local/lib/python3.8/site-packages (from scikit-learn->five-one-one) (1.0.1)\n",
      "Requirement already satisfied, skipping upgrade: scipy>=0.19.1 in /home/ecow/.local/lib/python3.8/site-packages (from scikit-learn->five-one-one) (1.7.1)\n",
      "Requirement already satisfied, skipping upgrade: threadpoolctl>=2.0.0 in /home/ecow/.local/lib/python3.8/site-packages (from scikit-learn->five-one-one) (2.2.0)\n",
      "Requirement already satisfied, skipping upgrade: thinc<8.1.0,>=8.0.8 in /home/ecow/.local/lib/python3.8/site-packages (from spacy->five-one-one) (8.0.8)\n",
      "Requirement already satisfied, skipping upgrade: cymem<2.1.0,>=2.0.2 in /home/ecow/.local/lib/python3.8/site-packages (from spacy->five-one-one) (2.0.5)\n",
      "Requirement already satisfied, skipping upgrade: preshed<3.1.0,>=3.0.2 in /home/ecow/.local/lib/python3.8/site-packages (from spacy->five-one-one) (3.0.5)\n",
      "Requirement already satisfied, skipping upgrade: blis<0.8.0,>=0.4.0 in /home/ecow/.local/lib/python3.8/site-packages (from spacy->five-one-one) (0.7.4)\n",
      "Requirement already satisfied, skipping upgrade: spacy-legacy<3.1.0,>=3.0.7 in /home/ecow/.local/lib/python3.8/site-packages (from spacy->five-one-one) (3.0.8)\n",
      "Requirement already satisfied, skipping upgrade: requests<3.0.0,>=2.13.0 in /usr/lib/python3/dist-packages (from spacy->five-one-one) (2.22.0)\n",
      "Requirement already satisfied, skipping upgrade: setuptools in /usr/lib/python3/dist-packages (from spacy->five-one-one) (45.2.0)\n",
      "Requirement already satisfied, skipping upgrade: tqdm<5.0.0,>=4.38.0 in /home/ecow/.local/lib/python3.8/site-packages (from spacy->five-one-one) (4.62.1)\n",
      "Requirement already satisfied, skipping upgrade: wasabi<1.1.0,>=0.8.1 in /home/ecow/.local/lib/python3.8/site-packages (from spacy->five-one-one) (0.8.2)\n",
      "Requirement already satisfied, skipping upgrade: pathy>=0.3.5 in /home/ecow/.local/lib/python3.8/site-packages (from spacy->five-one-one) (0.6.0)\n",
      "Requirement already satisfied, skipping upgrade: packaging>=20.0 in /usr/lib/python3/dist-packages (from spacy->five-one-one) (20.3)\n",
      "Requirement already satisfied, skipping upgrade: catalogue<2.1.0,>=2.0.4 in /home/ecow/.local/lib/python3.8/site-packages (from spacy->five-one-one) (2.0.6)\n",
      "Requirement already satisfied, skipping upgrade: jinja2 in /home/ecow/.local/lib/python3.8/site-packages (from spacy->five-one-one) (3.0.1)\n",
      "Requirement already satisfied, skipping upgrade: typer<0.4.0,>=0.3.0 in /home/ecow/.local/lib/python3.8/site-packages (from spacy->five-one-one) (0.3.2)\n",
      "Requirement already satisfied, skipping upgrade: murmurhash<1.1.0,>=0.28.0 in /home/ecow/.local/lib/python3.8/site-packages (from spacy->five-one-one) (1.0.5)\n",
      "Requirement already satisfied, skipping upgrade: srsly<3.0.0,>=2.4.1 in /home/ecow/.local/lib/python3.8/site-packages (from spacy->five-one-one) (2.4.1)\n",
      "Requirement already satisfied, skipping upgrade: pydantic!=1.8,!=1.8.1,<1.9.0,>=1.7.4 in /home/ecow/.local/lib/python3.8/site-packages (from spacy->five-one-one) (1.8.2)\n",
      "Requirement already satisfied, skipping upgrade: smart-open<6.0.0,>=5.0.0 in /home/ecow/.local/lib/python3.8/site-packages (from pathy>=0.3.5->spacy->five-one-one) (5.2.0)\n",
      "Requirement already satisfied, skipping upgrade: MarkupSafe>=2.0 in /home/ecow/.local/lib/python3.8/site-packages (from jinja2->spacy->five-one-one) (2.0.1)\n",
      "Requirement already satisfied, skipping upgrade: click<7.2.0,>=7.1.1 in /home/ecow/.local/lib/python3.8/site-packages (from typer<0.4.0,>=0.3.0->spacy->five-one-one) (7.1.2)\n",
      "Requirement already satisfied, skipping upgrade: typing-extensions>=3.7.4.3 in /home/ecow/.local/lib/python3.8/site-packages (from pydantic!=1.8,!=1.8.1,<1.9.0,>=1.7.4->spacy->five-one-one) (3.10.0.0)\n",
      "Building wheels for collected packages: five-one-one\n",
      "  Building wheel for five-one-one (setup.py) ... \u001b[?25ldone\n",
      "\u001b[?25h  Created wheel for five-one-one: filename=five_one_one-1.4.5-cp38-cp38-linux_x86_64.whl size=14904 sha256=6c46e5d41023cf7b60c527f774e5f383204e787dd4867c93436837738e41a323\n",
      "  Stored in directory: /home/ecow/.cache/pip/wheels/94/a4/91/321c9772a212bceb4a0cf06e952caa0a7519b22f0fe54778b7\n",
      "Successfully built five-one-one\n",
      "Installing collected packages: five-one-one\n",
      "  Attempting uninstall: five-one-one\n",
      "    Found existing installation: five-one-one 1.4.3\n",
      "    Uninstalling five-one-one-1.4.3:\n",
      "      Successfully uninstalled five-one-one-1.4.3\n",
      "Successfully installed five-one-one-1.4.5\n"
     ]
    }
   ],
   "source": [
    "!pip install --upgrade five-one-one"
   ]
  },
  {
   "cell_type": "code",
   "execution_count": 27,
   "metadata": {
    "colab": {},
    "colab_type": "code",
    "id": "cmVyZUtGfurN"
   },
   "outputs": [],
   "source": [
    "import five_one_one\n",
    "\n",
    "assert five_one_one.is_python_version(3, 9, 6)\n",
    "assert five_one_one.is_python_version(\"3.9.6\")"
   ]
  },
  {
   "cell_type": "code",
   "execution_count": 28,
   "metadata": {
    "colab": {
     "base_uri": "https://localhost:8080/",
     "height": 210
    },
    "colab_type": "code",
    "id": "_-CUq_fX1Oqb",
    "outputId": "5380180e-f90d-4ab6-bf1d-00cb51fe8eab"
   },
   "outputs": [
    {
     "name": "stdout",
     "output_type": "stream",
     "text": [
      "File ‘house-votes-84.data’ already there; not retrieving.\n",
      "\n"
     ]
    }
   ],
   "source": [
    "!wget --no-clobber https://archive.ics.uci.edu/ml/machine-learning-databases/voting-records/house-votes-84.data\n"
   ]
  },
  {
   "cell_type": "code",
   "execution_count": 29,
   "metadata": {
    "colab": {
     "base_uri": "https://localhost:8080/",
     "height": 257
    },
    "colab_type": "code",
    "id": "QqymrA7t-EeG",
    "outputId": "1eed71e7-d486-4434-dd8f-bfaad6c5c87c"
   },
   "outputs": [
    {
     "data": {
      "text/html": [
       "<div>\n",
       "<style scoped>\n",
       "    .dataframe tbody tr th:only-of-type {\n",
       "        vertical-align: middle;\n",
       "    }\n",
       "\n",
       "    .dataframe tbody tr th {\n",
       "        vertical-align: top;\n",
       "    }\n",
       "\n",
       "    .dataframe thead th {\n",
       "        text-align: right;\n",
       "    }\n",
       "</style>\n",
       "<table border=\"1\" class=\"dataframe\">\n",
       "  <thead>\n",
       "    <tr style=\"text-align: right;\">\n",
       "      <th></th>\n",
       "      <th>party</th>\n",
       "      <th>handicapped-infants</th>\n",
       "      <th>water-project</th>\n",
       "      <th>budget</th>\n",
       "      <th>physician-fee-freeze</th>\n",
       "      <th>el-salvador-aid</th>\n",
       "      <th>religious-groups</th>\n",
       "      <th>anti-satellite-ban</th>\n",
       "      <th>aid-to-contras</th>\n",
       "      <th>mx-missile</th>\n",
       "      <th>immigration</th>\n",
       "      <th>synfuels</th>\n",
       "      <th>education</th>\n",
       "      <th>right-to-sue</th>\n",
       "      <th>crime</th>\n",
       "      <th>duty-free</th>\n",
       "      <th>south-africa</th>\n",
       "    </tr>\n",
       "  </thead>\n",
       "  <tbody>\n",
       "    <tr>\n",
       "      <th>0</th>\n",
       "      <td>republican</td>\n",
       "      <td>n</td>\n",
       "      <td>y</td>\n",
       "      <td>n</td>\n",
       "      <td>y</td>\n",
       "      <td>y</td>\n",
       "      <td>y</td>\n",
       "      <td>n</td>\n",
       "      <td>n</td>\n",
       "      <td>n</td>\n",
       "      <td>y</td>\n",
       "      <td>?</td>\n",
       "      <td>y</td>\n",
       "      <td>y</td>\n",
       "      <td>y</td>\n",
       "      <td>n</td>\n",
       "      <td>y</td>\n",
       "    </tr>\n",
       "    <tr>\n",
       "      <th>1</th>\n",
       "      <td>republican</td>\n",
       "      <td>n</td>\n",
       "      <td>y</td>\n",
       "      <td>n</td>\n",
       "      <td>y</td>\n",
       "      <td>y</td>\n",
       "      <td>y</td>\n",
       "      <td>n</td>\n",
       "      <td>n</td>\n",
       "      <td>n</td>\n",
       "      <td>n</td>\n",
       "      <td>n</td>\n",
       "      <td>y</td>\n",
       "      <td>y</td>\n",
       "      <td>y</td>\n",
       "      <td>n</td>\n",
       "      <td>?</td>\n",
       "    </tr>\n",
       "    <tr>\n",
       "      <th>2</th>\n",
       "      <td>democrat</td>\n",
       "      <td>?</td>\n",
       "      <td>y</td>\n",
       "      <td>y</td>\n",
       "      <td>?</td>\n",
       "      <td>y</td>\n",
       "      <td>y</td>\n",
       "      <td>n</td>\n",
       "      <td>n</td>\n",
       "      <td>n</td>\n",
       "      <td>n</td>\n",
       "      <td>y</td>\n",
       "      <td>n</td>\n",
       "      <td>y</td>\n",
       "      <td>y</td>\n",
       "      <td>n</td>\n",
       "      <td>n</td>\n",
       "    </tr>\n",
       "    <tr>\n",
       "      <th>3</th>\n",
       "      <td>democrat</td>\n",
       "      <td>n</td>\n",
       "      <td>y</td>\n",
       "      <td>y</td>\n",
       "      <td>n</td>\n",
       "      <td>?</td>\n",
       "      <td>y</td>\n",
       "      <td>n</td>\n",
       "      <td>n</td>\n",
       "      <td>n</td>\n",
       "      <td>n</td>\n",
       "      <td>y</td>\n",
       "      <td>n</td>\n",
       "      <td>y</td>\n",
       "      <td>n</td>\n",
       "      <td>n</td>\n",
       "      <td>y</td>\n",
       "    </tr>\n",
       "    <tr>\n",
       "      <th>4</th>\n",
       "      <td>democrat</td>\n",
       "      <td>y</td>\n",
       "      <td>y</td>\n",
       "      <td>y</td>\n",
       "      <td>n</td>\n",
       "      <td>y</td>\n",
       "      <td>y</td>\n",
       "      <td>n</td>\n",
       "      <td>n</td>\n",
       "      <td>n</td>\n",
       "      <td>n</td>\n",
       "      <td>y</td>\n",
       "      <td>?</td>\n",
       "      <td>y</td>\n",
       "      <td>y</td>\n",
       "      <td>y</td>\n",
       "      <td>y</td>\n",
       "    </tr>\n",
       "  </tbody>\n",
       "</table>\n",
       "</div>"
      ],
      "text/plain": [
       "        party handicapped-infants water-project budget physician-fee-freeze  \\\n",
       "0  republican                   n             y      n                    y   \n",
       "1  republican                   n             y      n                    y   \n",
       "2    democrat                   ?             y      y                    ?   \n",
       "3    democrat                   n             y      y                    n   \n",
       "4    democrat                   y             y      y                    n   \n",
       "\n",
       "  el-salvador-aid religious-groups anti-satellite-ban aid-to-contras  \\\n",
       "0               y                y                  n              n   \n",
       "1               y                y                  n              n   \n",
       "2               y                y                  n              n   \n",
       "3               ?                y                  n              n   \n",
       "4               y                y                  n              n   \n",
       "\n",
       "  mx-missile immigration synfuels education right-to-sue crime duty-free  \\\n",
       "0          n           y        ?         y            y     y         n   \n",
       "1          n           n        n         y            y     y         n   \n",
       "2          n           n        y         n            y     y         n   \n",
       "3          n           n        y         n            y     n         n   \n",
       "4          n           n        y         ?            y     y         y   \n",
       "\n",
       "  south-africa  \n",
       "0            y  \n",
       "1            ?  \n",
       "2            n  \n",
       "3            y  \n",
       "4            y  "
      ]
     },
     "execution_count": 29,
     "metadata": {},
     "output_type": "execute_result"
    }
   ],
   "source": [
    "import pandas as pd\n",
    "\n",
    "column_headers = ['party','handicapped-infants','water-project',\n",
    "                          'budget','physician-fee-freeze', 'el-salvador-aid',\n",
    "                          'religious-groups','anti-satellite-ban',\n",
    "                          'aid-to-contras','mx-missile','immigration',\n",
    "                          'synfuels', 'education', 'right-to-sue','crime','duty-free',\n",
    "                          'south-africa']\n",
    "df = pd.read_csv(\"house-votes-84.data\", header=None, names=column_headers)\n",
    "\n",
    "df.head()"
   ]
  },
  {
   "cell_type": "code",
   "execution_count": 30,
   "metadata": {
    "colab": {},
    "colab_type": "code",
    "id": "sKMfiatlL_ng"
   },
   "outputs": [],
   "source": [
    "dems = df[df[\"party\"] == \"democrat\"]\n",
    "reps = df[df[\"party\"] == \"republican\"]\n",
    "\n"
   ]
  },
  {
   "cell_type": "code",
   "execution_count": 31,
   "metadata": {
    "colab": {},
    "colab_type": "code",
    "id": "3R-S7j1aMzeu"
   },
   "outputs": [],
   "source": [
    "from five_one_one.df_utils import train_validate_test_split, confidenceInterval, bayesConfidenceInterval"
   ]
  },
  {
   "cell_type": "code",
   "execution_count": 32,
   "metadata": {
    "colab": {},
    "colab_type": "code",
    "id": "kbmZEosmNFNj"
   },
   "outputs": [],
   "source": [
    "train, val, test = train_validate_test_split(df)"
   ]
  },
  {
   "cell_type": "code",
   "execution_count": 33,
   "metadata": {
    "colab": {
     "base_uri": "https://localhost:8080/",
     "height": 34
    },
    "colab_type": "code",
    "id": "cf0kTw40NIMb",
    "outputId": "3d17fc2e-bbed-456f-94f5-1087f3ac2abd"
   },
   "outputs": [
    {
     "data": {
      "text/plain": [
       "((261, 17), (87, 17), (87, 17))"
      ]
     },
     "execution_count": 33,
     "metadata": {},
     "output_type": "execute_result"
    }
   ],
   "source": [
    "train.shape, val.shape, test.shape"
   ]
  },
  {
   "cell_type": "code",
   "execution_count": 34,
   "metadata": {
    "colab": {},
    "colab_type": "code",
    "id": "-LfeJ_B7RlzU"
   },
   "outputs": [],
   "source": [
    "df = df.replace({\"n\": 0, \"y\": 1})"
   ]
  },
  {
   "cell_type": "code",
   "execution_count": 35,
   "metadata": {
    "colab": {},
    "colab_type": "code",
    "id": "kx-7bt8mR_Un"
   },
   "outputs": [],
   "source": [
    "dems = dems.drop(columns=[\"party\"])\n",
    "dems = dems.replace({\"n\": -1, \"?\": 0, \"y\": 1})"
   ]
  },
  {
   "cell_type": "code",
   "execution_count": 36,
   "metadata": {
    "colab": {
     "base_uri": "https://localhost:8080/",
     "height": 34
    },
    "colab_type": "code",
    "id": "5EkTxLdWN_Do",
    "outputId": "94cd5654-056b-4047-af8f-404ecc5d902a"
   },
   "outputs": [
    {
     "data": {
      "text/plain": [
       "(0.680068480081707, 0.7565543071161048, 0.8330401341505027)"
      ]
     },
     "execution_count": 36,
     "metadata": {},
     "output_type": "execute_result"
    }
   ],
   "source": [
    "confidenceInterval(dems[\"budget\"])"
   ]
  },
  {
   "cell_type": "code",
   "execution_count": 37,
   "metadata": {
    "colab": {
     "base_uri": "https://localhost:8080/",
     "height": 228
    },
    "colab_type": "code",
    "id": "TWMkSmDAZEpK",
    "outputId": "20838c14-32e9-48f7-ae48-1e5ff5b38107"
   },
   "outputs": [
    {
     "name": "stdout",
     "output_type": "stream",
     "text": [
      "Help on function confidenceInterval in module five_one_one.df_utils:\n",
      "\n",
      "confidenceInterval(data, confidence=0.95)\n",
      "    Returns the confidence interval and mean for the data within the given\n",
      "    {confidence}.\n",
      "    \n",
      "    @type data: DataFrame\n",
      "    @type confidence: float\n",
      "    \n",
      "    @returns: tuple of 3 floats representing the left confidence interval,\n",
      "        the median, and the right confidence interval for the data.\n",
      "\n"
     ]
    }
   ],
   "source": [
    "help(confidenceInterval)"
   ]
  },
  {
   "cell_type": "code",
   "execution_count": 38,
   "metadata": {
    "colab": {},
    "colab_type": "code",
    "id": "YW3y8deJZEpP"
   },
   "outputs": [],
   "source": [
    "from five_one_one.df_utils import ColumnCompare\n",
    "\n",
    "reps = reps.drop(columns=[\"party\"])\n",
    "reps = reps.replace({\"n\": -1, \"?\": 0, \"y\": 1})"
   ]
  },
  {
   "cell_type": "code",
   "execution_count": 39,
   "metadata": {
    "colab": {},
    "colab_type": "code",
    "id": "0OvQlFeWZEpU"
   },
   "outputs": [],
   "source": [
    "cc = ColumnCompare(dems, reps)"
   ]
  },
  {
   "cell_type": "code",
   "execution_count": 40,
   "metadata": {
    "colab": {
     "base_uri": "https://localhost:8080/",
     "height": 34
    },
    "colab_type": "code",
    "id": "r7F7tu06ZEpX",
    "outputId": "71671afb-f239-49ae-c03e-6f864e8e28c3"
   },
   "outputs": [
    {
     "data": {
      "text/plain": [
       "Ttest_indResult(statistic=22.8216930438848, pvalue=2.8721153143958906e-76)"
      ]
     },
     "execution_count": 40,
     "metadata": {},
     "output_type": "execute_result"
    }
   ],
   "source": [
    "cc.test(\"budget\")"
   ]
  },
  {
   "cell_type": "code",
   "execution_count": 41,
   "metadata": {
    "colab": {
     "base_uri": "https://localhost:8080/",
     "height": 34
    },
    "colab_type": "code",
    "id": "02LredicZEpa",
    "outputId": "ce935f06-138f-4b89-b8dc-8986ae45b940"
   },
   "outputs": [
    {
     "data": {
      "text/plain": [
       "Ttest_indResult(statistic=-0.08764559884421932, pvalue=0.9301988772663677)"
      ]
     },
     "execution_count": 41,
     "metadata": {},
     "output_type": "execute_result"
    }
   ],
   "source": [
    "cc.test(\"water-project\")"
   ]
  },
  {
   "cell_type": "code",
   "execution_count": 42,
   "metadata": {
    "colab": {},
    "colab_type": "code",
    "id": "vZROor5fZEpc"
   },
   "outputs": [],
   "source": [
    "pd.options.display.max_rows = 999"
   ]
  },
  {
   "cell_type": "code",
   "execution_count": 43,
   "metadata": {
    "colab": {},
    "colab_type": "code",
    "id": "nkjQvykvZEpe"
   },
   "outputs": [],
   "source": [
    "import pandas as pd\n",
    "from bs4 import BeautifulSoup\n",
    "import requests\n",
    "\n",
    "##### Your Code Here #####\n",
    "df = pd.read_csv(\"https://github.com/ekoly/DS-Unit-4-Sprint-1-NLP/raw/master/module2-vector-representations/data/job_listings.csv\")\n",
    "df.head()\n",
    "\n",
    "df[\"description\"] = df[\"description\"].apply(lambda s: \" \".join(BeautifulSoup(s, \"html.parser\").stripped_strings).replace(\"\\\\n\", \" \"))\n",
    "df.head()\n",
    "\n",
    "from five_one_one import nlp_utils"
   ]
  },
  {
   "cell_type": "code",
   "execution_count": 44,
   "metadata": {
    "colab": {
     "base_uri": "https://localhost:8080/",
     "height": 1000
    },
    "colab_type": "code",
    "id": "i7n0AYc0ZEpg",
    "outputId": "f8ed4d14-9d64-4275-ccb7-db5b9f2f0819"
   },
   "outputs": [
    {
     "data": {
      "text/plain": [
       "0      [b, job, requirements, conceptual, understandi...\n",
       "1      [b, job, description, data, scientist, 1, help...\n",
       "2      [b, data, scientist, work, consult, business, ...\n",
       "3      [b, , 4969, , 6756, month, contract, general, ...\n",
       "4      [b, location, usa, xe2x80x93, multiple, locati...\n",
       "5      [b, create, business, intelligence, analytical...\n",
       "6      [b, spotify, premium, swell, 96, m, subscriber...\n",
       "7      [beverytown, gun, safety, nation, large, gun, ...\n",
       "8      [b, ms, quantitative, discipline, statistics, ...\n",
       "9      [b, slack, hire, experienced, datum, scientist...\n",
       "10     [b, blackthorn, therapeutics, computational, s...\n",
       "11     [b, time, opportunity, grubhub, wexe2x80x99ve,...\n",
       "12     [bnfosysxe2x80x93, data, analytics, xe2x80x93,...\n",
       "13     [b, spotify, premium, swell, 96, m, subscriber...\n",
       "14     [b, experience, guide, rd, strategy, organizat...\n",
       "15     [b, atlantic, seek, data, scientist, help, lea...\n",
       "16     [b, challenge, eventbrite, big, bustling, mark...\n",
       "17     [b, contract, look, hire, data, scientist, rem...\n",
       "18     [beverytown, gun, safety, nation, large, gun, ...\n",
       "19     [b, , 70000, , 100000, year, title, data, anal...\n",
       "20     [b, , 45000, year, work, direction, associate,...\n",
       "21     [b, challenge, excited, prospect, unlock, secr...\n",
       "22     [b, seek, data, scientist, join, product, insi...\n",
       "23     [b, motiion, technology, datum, company, food,...\n",
       "24     [b, scientist, responsible, scientific, integr...\n",
       "25     [bas, data, scientist, ads, measurement, partn...\n",
       "26     [b, summary, post, mar, 6, 2019, weekly, hours...\n",
       "27     [b, slack, look, experienced, datum, scientist...\n",
       "28     [bnfosysxe2x80x93, data, analytics, xe2x80x93,...\n",
       "29     [b, time, internship, summary, sierra, nevadax...\n",
       "30     [b, internship, overview, day, perspecta, enab...\n",
       "31     [b, wexe2x80x99re, look, data, scientist, grow...\n",
       "32     [b, jr, data, scientist, share, find, similar,...\n",
       "33     [b, degree, computer, science, engineering, ma...\n",
       "34     [bevery, day, passionate, employee, connect, c...\n",
       "35     [b, temporary, internship, mongodb, seek, high...\n",
       "36     [b, position, summary, todayxe2x80x99, fast, e...\n",
       "37     [b, temporary, internship, position, descripti...\n",
       "38     [b, temporary, internship, responsibility, per...\n",
       "39     [b, , 138579, year, collect, analyze, statisti...\n",
       "40     [b, temporary, internship, job, description, s...\n",
       "41     [b, inscape, affiliate, vizio, inc, industry, ...\n",
       "42     [b, job, description, 5, 10, year, hand, exper...\n",
       "43     [b, blackthorn, therapeutics, computational, s...\n",
       "44     [b, , 200000, , 350000, year, million, people,...\n",
       "45     [b, collaborate, bright, technical, mind, buil...\n",
       "46     [b, data, scientist, verb, surgical, google, j...\n",
       "47     [b, description, rare, opportunity, join, deve...\n",
       "48     [b, time, temporary, internship, bmw, technolo...\n",
       "49     [b, position, purpose, primary, purpose, posit...\n",
       "50     [b, data, scientist, multiple, levels19000c1, ...\n",
       "51     [budacity, mission, democratize, education, on...\n",
       "52     [b, challenge, adobe, look, senior, data, scie...\n",
       "53     [b, temporary, internship, c3, lead, enterpris...\n",
       "54     [b, uber, ignite, opportunity, set, world, mot...\n",
       "55     [b, senior, data, scientist19000bn4, preferred...\n",
       "56     [b, temporary, internship, description, data, ...\n",
       "57     [b, , 67968, , 126062, year, data, scientist, ...\n",
       "58     [b, temporary, internship, rifiniti, growth, s...\n",
       "59     [b, internship, youll, data, scientist, intern...\n",
       "60     [b, requisition, id, req6316, job, title, data...\n",
       "61     [b, data, scientist, 2, 190007ji, preferred, q...\n",
       "62     [b, business, unit, introduction, position, en...\n",
       "63     [b, , 40, , 42, hour, time, contractor, positi...\n",
       "64     [b, uber, ignite, opportunity, set, world, mot...\n",
       "65     [b, note, apply, position, application, automa...\n",
       "66     [b, slack, look, experienced, datum, scientist...\n",
       "67     [b, internship, criteo, connect, 15, billion, ...\n",
       "68     [bthis, exciting, time, opportunity, work, fas...\n",
       "69     [b, junior, data, scientist, big, data, entry,...\n",
       "70     [b, junior, data, scientist, big, data, entry,...\n",
       "71     [b, data, scientist, responsible, model, compl...\n",
       "72     [b, responsibility, include, support, develop,...\n",
       "73     [bdescription, nyc, innovation, team, locate, ...\n",
       "74     [b, , 62844, , 100908, year, summary, oregon, ...\n",
       "75     [b, title, data, scientist, job, location, col...\n",
       "76     [b, title, data, scientist, role, design, peop...\n",
       "77     [b, uber, wexe2x80x99re, change, way, people, ...\n",
       "78     [b, , 2193, , 2643, hour, internship, data, sc...\n",
       "79     [b, contract, akraya, look, data, scientist, c...\n",
       "80     [b, contract, data, engineer, key, technical, ...\n",
       "81     [b, clinical, data, scientist, job, locations,...\n",
       "82     [bfounde, 2015, honor, fast, grow, non, medica...\n",
       "83     [bcompany, projectmanagercom, award, win, proj...\n",
       "84     [b, internship, data, scientist, intern, inter...\n",
       "85     [b, temporary, internship, job, description, s...\n",
       "86     [b, position, description, demonstrate, date, ...\n",
       "87     [b, contract, transformational, partner, marry...\n",
       "88     [b, position, description, walmart, voice, com...\n",
       "89     [b, uber, wexe2x80x99re, change, way, people, ...\n",
       "90     [b, data, scientist, multiple, levels19000c1, ...\n",
       "91     [b, atos, se, societas, europaea, leader, digi...\n",
       "92     [b, come, work, look, dedicated, employee, joi...\n",
       "93     [b, major, responsibility, research, identify,...\n",
       "94     [b, westrock, westrock, nyse, wrk, partner, cu...\n",
       "95     [b, slack, hire, experienced, datum, scientist...\n",
       "96     [b, internship, position, description, add, te...\n",
       "97     [bwere, look, data, scientist, passionate, gen...\n",
       "98     [b, uber, ignite, opportunity, set, world, mot...\n",
       "99     [b, associate, statistical, modeler, conduct, ...\n",
       "100    [b, description, rare, opportunity, join, deve...\n",
       "101    [b, united, states, strategic, command, usstra...\n",
       "102    [babout, company, civis, analytics, technology...\n",
       "103    [bcustomer, facing, data, scientist, cfds, cri...\n",
       "104    [b, internship, it, fun, work, company, people...\n",
       "105    [b, data, scientist, duty, typically, focus, c...\n",
       "106    [b, look, senior, level, data, scientist, 6, ,...\n",
       "107    [b, hrs, look, add, data, scientist, rapidly, ...\n",
       "108    [bposition, kayak, look, people, love, work, d...\n",
       "109    [b, position, description, product, catalog, t...\n",
       "110    [binvitae, envision, world, genomic, sequence,...\n",
       "111    [bmine, rich, user, datum, set, find, insight,...\n",
       "112    [bwere, look, data, scientist, passionate, gen...\n",
       "113    [b, xe2x80x9cpeople, personify, drive, exceed,...\n",
       "114    [b, arthur, lawrence, urgently, look, data, sc...\n",
       "115    [b, company, overview, proofpoint, passion, pr...\n",
       "116    [b, , 57000, , 85000, year, georgia, policy, l...\n",
       "117    [b, company, detail, found, 1967, w, r, berkle...\n",
       "118    [b, overview, base, northern, va, axiologic, s...\n",
       "119    [b, data, scientist, role, instrumental, help,...\n",
       "120    [b, description, position, background, know, s...\n",
       "121    [b, time, nittany, artificial, intelligence, a...\n",
       "122    [b, senior, data, scientist19000bn4, preferred...\n",
       "123    [b, motiion, technology, datum, company, food,...\n",
       "124    [b, keysight, marketing, hire, data, scientist...\n",
       "125    [b, time, temporary, internship, bmw, technolo...\n",
       "126    [b, job, description, data, scientist, positio...\n",
       "127    [b, null, associate, data, scientist, xe2x80x9...\n",
       "128    [b, uber, ignite, opportunity, set, world, mot...\n",
       "129    [b, trilogy, power, big, dream, small, ego, tr...\n",
       "130    [bwho, stack, data, scientist, experienced, qu...\n",
       "131    [b, slack, look, experienced, datum, scientist...\n",
       "132    [binvitae, envision, world, genomic, sequence,...\n",
       "133    [b, youxe2x80x99ll, work, huge, insurance, fir...\n",
       "134    [b, , 82000, year, innovation, center, clearwa...\n",
       "135    [bparadigm, strategy, firm, partner, innovativ...\n",
       "136    [b, waitr, redefine, dining, experience, build...\n",
       "137    [b, wexe2x80x99re, elliott, davis, rapidly, gr...\n",
       "138    [b, job, description, 5, 10, year, hand, exper...\n",
       "139    [b, look, big, impact, revolutionize, frontier...\n",
       "140    [bonly, local, candidate, consider, role, hi, ...\n",
       "141    [b, role, babylist, look, data, analyst, join,...\n",
       "142    [b, challenge, adobe, look, senior, data, scie...\n",
       "143    [b, date, mar, 19, 2019, ericsson, overview, e...\n",
       "144    [b, position, description, smart, pricing, big...\n",
       "145    [bfiat, chrysler, automobiles, look, fill, tim...\n",
       "146    [b, temporary, internship, position, descripti...\n",
       "147    [b, overview, responsibilities, role, join, ex...\n",
       "148    [b, data, scientist, redjack, grow, protect, w...\n",
       "149    [b, , 2717, , 3660, hour, data, scientist, gra...\n",
       "150    [b, contract, 1, year, contract, data, scienti...\n",
       "151    [b, data, scientist, critical, position, dss, ...\n",
       "152    [b, armour, choose, brand, generation, athlete...\n",
       "153    [b, principal, data, scientist, responsible, l...\n",
       "154    [b, job, description, task, report, bat, archi...\n",
       "155    [b, role, wework, datum, sit, center, business...\n",
       "156    [b, inscape, affiliate, vizio, inc, industry, ...\n",
       "157    [b, channel, intellectual, property, protectio...\n",
       "158    [b, bachelor, master, degree, highly, quantita...\n",
       "159    [bexperiment, engineer, expect, help, define, ...\n",
       "160    [b, core, challenge, come, intersect, grow, in...\n",
       "161    [b, seek, manager, business, intelligence, bi,...\n",
       "162    [b, team, data, science, team, newly, form, ap...\n",
       "163    [b, position, embed, data, analytics, practice...\n",
       "164    [b, position, description, look, experienced, ...\n",
       "165    [bthe, company, cross, good, silicon, valley, ...\n",
       "166    [b, spin, spin, operate, electric, scooter, ci...\n",
       "167    [b, clinical, data, scientist, job, locations,...\n",
       "168    [b, logistic, differently, xpo, logistics, inv...\n",
       "169    [babout, role, analytics, work, numerous, depa...\n",
       "170    [b, database, engineer, secret, work, youxe2x8...\n",
       "171    [b, atlantic, seek, data, scientist, help, lea...\n",
       "172    [b, title, data, scientist, role, design, peop...\n",
       "173    [b, hire, remote, data, scientist, strong, mac...\n",
       "174    [b, job, description, data, scientist, positio...\n",
       "175    [bwere, look, data, scientist, passionate, gen...\n",
       "176    [babout, company, civis, analytics, help, lead...\n",
       "177    [b, data, scientist, role, instrumental, help,...\n",
       "178    [b, rsg, seek, experienced, data, scientist, j...\n",
       "179    [b, believe, great, writing, experience, fast,...\n",
       "180    [b, contract, 6, month, contract, hire, positi...\n",
       "181    [b, time, opportunity, grubhub, wexe2x80x99ve,...\n",
       "182    [b, scoop, scoop, bring, co, worker, neighbor,...\n",
       "183    [b, channel, intellectual, property, protectio...\n",
       "184    [b, overview, responsibilities, role, join, ex...\n",
       "185    [b, time, position, senior, data, scientist, s...\n",
       "186    [b, position, description, demonstrate, date, ...\n",
       "187    [b, internship, it, fun, work, company, people...\n",
       "188    [b, conduct, research, advanced, statistical, ...\n",
       "189    [b, time, qxbranch, seek, talented, data, scie...\n",
       "190    [b, overview, day, life, data, scientist, prim...\n",
       "191    [b, uber, ignite, opportunity, set, world, mot...\n",
       "192    [b, internship, position, description, candida...\n",
       "193    [b, internship, current, footprint, constructi...\n",
       "194    [b, data, scientist, evaluate, improve, appzen...\n",
       "195    [b, internship, advanced, analytics, organizat...\n",
       "196    [b, temporary, internship, overview, get, real...\n",
       "197    [b, reonomy, leverage, power, datum, technolog...\n",
       "198    [b, sr, data, scientist1901744, description, s...\n",
       "199    [b, data, science, analytics, practice, group,...\n",
       "200    [b, team, zillow, look, extraordinary, data, s...\n",
       "201    [b, internship, overview, data, science, inter...\n",
       "202    [b, contract, data, engineer, key, technical, ...\n",
       "203    [b, proficiency, synthesize, interpret, datum,...\n",
       "204    [b, internship, greater, new, york, mutual, in...\n",
       "205    [b, sr, data, scientist1901744, description, s...\n",
       "206    [bopenx, seek, data, scientist, responsible, e...\n",
       "207    [b, , 100000, , 125000, year, description, che...\n",
       "208    [b, applied, materials, leader, material, engi...\n",
       "209    [babout, stanza, hundred, million, pageview, n...\n",
       "210    [b, temporary, internship, position, descripti...\n",
       "211    [b, commission, red, hat, connect, innovative,...\n",
       "212    [b, internship, job, description, smart, compa...\n",
       "213    [b, houston, methodist, hm, look, passionate, ...\n",
       "214    [b, uber, wexe2x80x99re, change, way, people, ...\n",
       "215    [bcompany, profile, morgan, stanley, lead, glo...\n",
       "216    [b, overview, newwave, information, technology...\n",
       "217    [b, senior, business, intelligence, data, engi...\n",
       "218    [b, primary, role, build, analytic, model, sup...\n",
       "219    [b, auto, req, id, 169334br, job, description,...\n",
       "220    [b, , 78600, year, job, description, data, ana...\n",
       "221    [b, uber, ignite, opportunity, set, world, mot...\n",
       "222    [b, overview, 1strategy, aws, consultancy, foc...\n",
       "223    [b, uber, ignite, opportunity, set, world, mot...\n",
       "224    [b, grainger, broad, line, business, business,...\n",
       "225    [b, mclean, 1, 19050, united, states, america,...\n",
       "226    [b, contract, job, description, title, data, s...\n",
       "227    [b, agency, job, overview, omd, award, win, in...\n",
       "228    [b, internship, role, data, scientist, interns...\n",
       "229    [b, expedia, wish, opportunity, transform, vol...\n",
       "230    [b, spotify, seek, data, scientist, advanced, ...\n",
       "231    [b, position, overview, oil, gas, division, cu...\n",
       "232    [b, functional, description, design, develop, ...\n",
       "233    [b, position, summary, general, direction, dat...\n",
       "234    [b, nauvera, inc, look, entrepreneurial, data,...\n",
       "235    [b, data, scientist, email, hrdataxpandercom, ...\n",
       "236    [b, conduct, research, advanced, statistical, ...\n",
       "237    [b, microsoft, envision, world, passionate, in...\n",
       "238    [babout, company, eyeview, video, marketing, t...\n",
       "239    [b, story, ulta, beauty, large, specialty, bea...\n",
       "240    [b, minimum, qualification, master, degree, op...\n",
       "241    [b, internship, job, description, global, chie...\n",
       "242    [b, , 40, , 42, hour, time, contractor, positi...\n",
       "243    [babout, company, civis, analytics, technology...\n",
       "244    [b, zeus, flawless, stays, found, november, 20...\n",
       "245    [b, responsibility, development, predictive, m...\n",
       "246    [b, sourcing, analyst, jc, penney, company, in...\n",
       "247    [b, position, description, need, phd, computer...\n",
       "248    [b, job, description, outstanding, career, opp...\n",
       "249    [bcompany, overview, digital, assets, data, le...\n",
       "250    [b, lmi, seek, data, drive, highly, analytic, ...\n",
       "251    [b, talent, acquisition, , power, leapros, chi...\n",
       "252    [b, internship, position, description, candida...\n",
       "253    [b, ascensus, fast, grow, company, excellent, ...\n",
       "254    [b, review, job, detail, excited, possibility,...\n",
       "255    [b, blacksky, division, spaceflight, industrie...\n",
       "256    [b, role, summary, ccs, data, scientist, respo...\n",
       "257    [b, uber, ignite, opportunity, set, world, mot...\n",
       "258    [b, data, scientist, avp, 180008jq, zurich, no...\n",
       "259    [b, hrs, look, add, data, scientist, rapidly, ...\n",
       "260    [b, collaborate, bright, technical, mind, buil...\n",
       "261    [b, data, science, engineer, mintel, futures, ...\n",
       "262    [b, ar, vr, team, facebook, help, people, worl...\n",
       "263    [b, trading, technologies, team, look, senior,...\n",
       "264    [b, growth, look, build, advanced, research, a...\n",
       "265    [bthe, communications, information, navigation...\n",
       "266    [bposition, kayak, look, people, love, work, d...\n",
       "267    [b, groupon, data, drive, decision, change, gr...\n",
       "268    [b, uber, ignite, opportunity, set, world, mot...\n",
       "269    [bplaystation, best, place, play, xe2x80x94it,...\n",
       "270    [b, uber, ignite, opportunity, set, world, mot...\n",
       "271    [bpurpose, job, currently, seek, talented, dat...\n",
       "272    [b, summary, post, dec, 10, 2018, role, number...\n",
       "273    [b, join, team, recognize, leadership, innovat...\n",
       "274    [b, general, description, assist, researcher, ...\n",
       "275    [b, minimum, qualification, master, degree, op...\n",
       "276    [b, facebook, mission, people, power, build, c...\n",
       "277    [b, purpose, overall, relevance, organization,...\n",
       "278    [b, temporary, internship, job, description, i...\n",
       "279    [b, summary, post, dec, 10, 2018, role, number...\n",
       "280    [b, drybar, blow, dry, bar, set, shake, beauty...\n",
       "281    [b, music, soundcloud, worldxe2x80x99s, large,...\n",
       "282    [b, interested, radically, improve, security, ...\n",
       "283    [b, summary, post, mar, 15, 2019, role, number...\n",
       "284    [b, socure, headquarter, nyc, leader, machine,...\n",
       "285    [b, jornaya, jornaya, httpwwwjornayacom, belie...\n",
       "286    [babout, blueshift, empower, lead, digital, br...\n",
       "287    [bwho, sixleaf, lead, marketing, platform, par...\n",
       "288    [b, data, scientist, work, autonomously, gener...\n",
       "289    [b, blockchain, world, lead, software, platfor...\n",
       "290    [b, internship, team, autodesk, san, francisco...\n",
       "291    [b, grow, data, science, team, central, global...\n",
       "292    [b, discover, rewarding, way, work, discover, ...\n",
       "293    [b, general, information, ref, 25256, employee...\n",
       "294    [b, collaborate, bright, technical, mind, buil...\n",
       "295    [b, forescout, forefront, iot, security, world...\n",
       "296    [b, position, description, look, experienced, ...\n",
       "297    [b, ecolabxe2x80x99s, energy, division, seek, ...\n",
       "298    [bthe, data, scientist, perform, analysis, mod...\n",
       "299    [b, company, allazohealth, location, new, york...\n",
       "300    [b, look, experienced, data, scientist, launch...\n",
       "301    [b, facebook, mission, people, power, build, c...\n",
       "302    [b, fullpower, technology, leader, cloud, base...\n",
       "303    [b, temporary, internship, rifiniti, growth, s...\n",
       "304    [b, collaborate, bright, technical, mind, buil...\n",
       "305    [b, therexe2x80x99, lot, work, osmo, love, sta...\n",
       "306    [b, review, job, detail, radiant, solutions, g...\n",
       "307    [b, job, description, toomey, technologies, im...\n",
       "308    [b, cleanchoice, energy, look, data, scientist...\n",
       "309    [b, contract, job, description, youxe2x80x99ll...\n",
       "310    [b, uber, ignite, opportunity, set, world, mot...\n",
       "311    [b, company, appzen, deliver, worldxe2x80x99s,...\n",
       "312    [b, , 2193, , 2643, hour, internship, data, sc...\n",
       "313    [b, hinge, healthxe2x80x99s, mission, improve,...\n",
       "314    [babout, team, role, stitch, fix, data, scienc...\n",
       "315    [b, , 100000, , 125000, year, description, che...\n",
       "316    [bnauto, ai, technology, company, improve, saf...\n",
       "317    [b, , 62844, , 100908, year, summary, oregon, ...\n",
       "318    [b, overview, position, responsible, aid, oper...\n",
       "319    [b, want, mission, drive, professional, experi...\n",
       "320    [b, team, responsible, place, ad, twitter, ser...\n",
       "321    [b, join, team, recognize, leadership, innovat...\n",
       "322    [b, uber, ignite, opportunity, set, world, mot...\n",
       "323    [b, role, babylist, look, data, analyst, join,...\n",
       "324    [b, customer, hundred, thousand, question, pro...\n",
       "325    [b, sparkfund, energy, technology, subscriptio...\n",
       "326    [b, associate, data, scientist, work, team, wr...\n",
       "327    [b, youxe2x80x99re, ready, innovate, help, lea...\n",
       "328    [b, independence, blue, cross, look, data, sci...\n",
       "329    [b, company, overview, complex, ecosystem, bac...\n",
       "330    [b, location, san, jose, outward, inc, outward...\n",
       "331    [bposition, summary, look, passionate, detail,...\n",
       "332    [b, job, code, rs0057, researcher, iii, humani...\n",
       "333    [bat, yeti, believe, time, spend, outdoors, ma...\n",
       "334    [b, minimum, qualification, master, degree, op...\n",
       "335    [b, spin, spin, operate, electric, scooter, ci...\n",
       "336    [bdiscover, business, insight, identify, oppor...\n",
       "337    [bmode, company, build, analyst, datum, scient...\n",
       "338    [bthe, fca, manufacturing, planning, control, ...\n",
       "339    [bat, yeti, believe, time, spend, outdoors, ma...\n",
       "340    [b, position, objective, provide, efficient, e...\n",
       "341    [b, position, title, data, scientist, position...\n",
       "342    [b, universal, parks, resortsxe2x84xa2, enjoy,...\n",
       "343    [b, , 2717, , 3660, hour, data, scientist, gra...\n",
       "344    [b, reonomy, leverage, power, datum, technolog...\n",
       "345    [b, small, business, backbone, american, econo...\n",
       "346    [b, youxe2x80x99ll, strategic, modeling, plann...\n",
       "347    [b, , 120000, year, lrs, consulting, services,...\n",
       "348    [bplaystation, best, place, play, xe2x80x94it,...\n",
       "349    [babout, care, care, takecareofcom, httpstakec...\n",
       "350    [b, company, information, paccar, fortune, 500...\n",
       "351    [b, youxe2x80x99ll, position, drive, profitabl...\n",
       "352    [bopenx, seek, data, scientist, responsible, e...\n",
       "353    [b, equal, opportunity, employer, minority, fe...\n",
       "354    [b, challenge, adobexe2x80x99, creative, cloud...\n",
       "355    [b, , 82000, year, innovation, center, clearwa...\n",
       "356    [b, internship, overview, geek, datum, love, a...\n",
       "357    [b, position, objective, datum, scientist, int...\n",
       "358    [b, youxe2x80x99ll, doingxe2x80xa6, primary, f...\n",
       "359    [b, maximize, potential, learning, organising,...\n",
       "360    [briskiq, world, leader, attack, surface, mana...\n",
       "361    [b, los, gatos, california, science, analytics...\n",
       "362    [babout, team, stitch, fix, data, science, tea...\n",
       "363    [bjyve, skill, service, platform, match, enter...\n",
       "364    [b, circleup, harness, power, machine, learnin...\n",
       "365    [b, come, work, look, dedicated, employee, joi...\n",
       "366    [b, data, science, encompass, computational, s...\n",
       "367    [babout, slyncio, wwwslyncio, httpwwwslyncio, ...\n",
       "368    [b, job, description, global, good, collaborat...\n",
       "369    [b, job, description, data, scientist, square,...\n",
       "370    [b, internship, business, find, provide, solut...\n",
       "371    [bfounde, dr, priscilla, chan, mark, zuckerber...\n",
       "372    [b, vision, pricing, merchandising, analytics,...\n",
       "373    [b, overview, base, northern, va, axiologic, s...\n",
       "374    [b, mission, palo, alto, networksxc2xae, start...\n",
       "375    [b, position, description, look, experienced, ...\n",
       "376    [b, snowflake, snowflake, grow, fast, wexe2x80...\n",
       "377    [b, team, responsible, place, ad, twitter, ser...\n",
       "378    [b, degree, computer, science, engineering, ma...\n",
       "379    [bclassdojo, vision, create, modern, education...\n",
       "380    [b, sr, advisor, data, science, company, descr...\n",
       "381    [b, mission, palo, alto, networksxc2xae, start...\n",
       "382    [b, data, scientist, job, description, amplion...\n",
       "383    [b, overview, data, science, department, seek,...\n",
       "384    [b, requirement, sql, eg, hive, postgresql, ms...\n",
       "385    [b, coursera, found, computer, science, profes...\n",
       "386    [b, , 165000, year, collect, analyze, statisti...\n",
       "387    [bare, passionate, power, technology, build, c...\n",
       "388    [bposition, summary, look, opportunity, use, c...\n",
       "389    [b, position, summary, general, direction, dat...\n",
       "390    [b, skill, python, r, machine, learn, statisti...\n",
       "391    [b, candidate, infectious, disease, modeling, ...\n",
       "392    [b, facebook, mission, people, power, build, c...\n",
       "393    [b, job, title, data, scientist, position, ove...\n",
       "394    [babout, company, civis, analytics, technology...\n",
       "395    [b, role, wework, datum, sit, center, business...\n",
       "396    [babout, lark, world, large, ai, healthcare, p...\n",
       "397    [b, zenreach, solve, major, problem, brick, mo...\n",
       "398    [b, position, description, walmart, voice, com...\n",
       "399    [bby, trade, technology, company, ask, work, t...\n",
       "400    [b, purpose, overall, relevance, organization,...\n",
       "401    [b, dscout, dscout, core, people, nerds, empow...\n",
       "402    [b, junior, data, scientist, big, data, entry,...\n",
       "403    [babout, interest, work, human, center, techno...\n",
       "404    [b, air, products, inc, fortune, 500, manufact...\n",
       "405    [b, data, scientist, want, opportunity, levera...\n",
       "406    [b, job, description, data, scientist, interac...\n",
       "407    [b, data, scientist, mine, analyze, complex, d...\n",
       "408    [b, finlocker, lead, financial, datum, analyti...\n",
       "409    [b, annual, sale, , 15, billion, ecolab, ecl, ...\n",
       "410    [b, job, description, enterprise, data, soluti...\n",
       "411    [b, description, chicago, il, il150sw, 150, s,...\n",
       "412    [b, nike, supply, chain, expert, ensure, year,...\n",
       "413    [b, principal, data, scientist, responsible, l...\n",
       "414    [b, look, senior, data, scientist, marketing, ...\n",
       "415    [b, temporary, internship, marketing, data, sc...\n",
       "416    [b, los, gatos, california, science, analytics...\n",
       "417    [b, role, logic2020, look, secure, data, analy...\n",
       "418    [b, contract, role, largely, operational, supp...\n",
       "419    [b, bachelorxe2x80x99s, masterxe2x80x99s, degr...\n",
       "420    [b, uber, ignite, opportunity, set, world, mot...\n",
       "421    [b, want, fantastic, fun, startup, thatxe2x80x...\n",
       "422    [b, internship, uber, ignite, opportunity, set...\n",
       "423    [b, , 200000, , 350000, year, million, people,...\n",
       "424    [b, senior, data, scientist, job, description,...\n",
       "425    [b, cerner, intelligence, new, innovative, org...\n",
       "Name: description, dtype: object"
      ]
     },
     "execution_count": 44,
     "metadata": {},
     "output_type": "execute_result"
    }
   ],
   "source": [
    "df[\"description\"].apply(nlp_utils.simple_tokenize)"
   ]
  },
  {
   "cell_type": "code",
   "execution_count": 45,
   "metadata": {
    "colab": {},
    "colab_type": "code",
    "id": "AmAEO2gpZEpi"
   },
   "outputs": [],
   "source": [
    "vect = nlp_utils.Scrubber()"
   ]
  },
  {
   "cell_type": "code",
   "execution_count": 46,
   "metadata": {
    "colab": {
     "base_uri": "https://localhost:8080/",
     "height": 1000
    },
    "colab_type": "code",
    "id": "XBZvcuHVZEpl",
    "outputId": "d4ee8325-bdf9-4480-cf3c-c6fdfe47e0d5"
   },
   "outputs": [
    {
     "data": {
      "text/plain": [
       "[['job',\n",
       "  'requirements',\n",
       "  'understanding',\n",
       "  'like',\n",
       "  'k',\n",
       "  'linear',\n",
       "  'logistic',\n",
       "  'regression',\n",
       "  'neural',\n",
       "  'random',\n",
       "  'decision',\n",
       "  'k',\n",
       "  'hand',\n",
       "  '2',\n",
       "  'expert',\n",
       "  'level',\n",
       "  'code',\n",
       "  'r',\n",
       "  'write',\n",
       "  'function',\n",
       "  'clean',\n",
       "  'efficient',\n",
       "  'role',\n",
       "  'exposure',\n",
       "  'package',\n",
       "  'like',\n",
       "  'numpy',\n",
       "  'pandas',\n",
       "  'etc',\n",
       "  'r',\n",
       "  'communicate',\n",
       "  'finding',\n",
       "  'non',\n",
       "  'hand',\n",
       "  'sql',\n",
       "  'hive',\n",
       "  'similar',\n",
       "  'programming',\n",
       "  'language',\n",
       "  'master',\n",
       "  'degree',\n",
       "  'statistics',\n",
       "  'mathematics',\n",
       "  'computer',\n",
       "  'specific',\n",
       "  'field',\n",
       "  'apply'],\n",
       " ['job',\n",
       "  'description',\n",
       "  '1',\n",
       "  'pipeline',\n",
       "  'service',\n",
       "  'client',\n",
       "  'healthcare',\n",
       "  'journey',\n",
       "  'empower',\n",
       "  'improve',\n",
       "  'generation',\n",
       "  'user',\n",
       "  'day',\n",
       "  'small',\n",
       "  'agile',\n",
       "  'design',\n",
       "  'mobile',\n",
       "  'application',\n",
       "  'group',\n",
       "  'member',\n",
       "  'contribute',\n",
       "  'good',\n",
       "  'practice',\n",
       "  'guide',\n",
       "  'future',\n",
       "  'application',\n",
       "  'operate',\n",
       "  'effectively',\n",
       "  'collaborative',\n",
       "  'member',\n",
       "  'operate',\n",
       "  'effectively',\n",
       "  'individual',\n",
       "  'enhancement',\n",
       "  'responsible',\n",
       "  'meet',\n",
       "  'deliverable',\n",
       "  'time',\n",
       "  'high',\n",
       "  'quality',\n",
       "  'implement',\n",
       "  'feature',\n",
       "  'mobile',\n",
       "  'application',\n",
       "  'perform',\n",
       "  'testing',\n",
       "  'writing',\n",
       "  'test',\n",
       "  'case',\n",
       "  'cover',\n",
       "  'area',\n",
       "  'identify',\n",
       "  'approach',\n",
       "  'increase',\n",
       "  'code',\n",
       "  'quality',\n",
       "  'efficiency',\n",
       "  'good',\n",
       "  'practice',\n",
       "  'process',\n",
       "  'code',\n",
       "  'design',\n",
       "  'necessary',\n",
       "  'innovate',\n",
       "  'maintain',\n",
       "  'great',\n",
       "  'quality',\n",
       "  'effectively',\n",
       "  'turn',\n",
       "  'design',\n",
       "  'document',\n",
       "  'demonstrate',\n",
       "  'creative',\n",
       "  'analytical',\n",
       "  'communicate',\n",
       "  'effectively',\n",
       "  'environment',\n",
       "  'qualifications',\n",
       "  'look',\n",
       "  'masterxe2x80x99s',\n",
       "  'degree',\n",
       "  'computer',\n",
       "  'math',\n",
       "  'related',\n",
       "  'field',\n",
       "  'computer',\n",
       "  'algorithm',\n",
       "  'design',\n",
       "  'solving',\n",
       "  'complexity',\n",
       "  '1',\n",
       "  '',\n",
       "  'real',\n",
       "  'world',\n",
       "  'deploy',\n",
       "  'service',\n",
       "  'pipeline',\n",
       "  'understanding',\n",
       "  'key',\n",
       "  'concept',\n",
       "  'accuracy',\n",
       "  'measure',\n",
       "  'cross',\n",
       "  'validation',\n",
       "  'open',\n",
       "  'source',\n",
       "  'library',\n",
       "  'sql',\n",
       "  'proficient',\n",
       "  'write',\n",
       "  'unit',\n",
       "  'functional',\n",
       "  'test',\n",
       "  'familiar',\n",
       "  'automation',\n",
       "  'framework',\n",
       "  'cloud',\n",
       "  'infrastructure',\n",
       "  'azure',\n",
       "  'plus',\n",
       "  'distribute',\n",
       "  'pipeline',\n",
       "  'spark',\n",
       "  'plus',\n",
       "  'strong',\n",
       "  'write',\n",
       "  'oral',\n",
       "  'communication',\n",
       "  'desire',\n",
       "  'agile',\n",
       "  'collaborative',\n",
       "  'innovative',\n",
       "  'flexible',\n",
       "  'orient',\n",
       "  'environment',\n",
       "  'detail',\n",
       "  'orient',\n",
       "  'motivated',\n",
       "  'self',\n",
       "  'starter',\n",
       "  'solid',\n",
       "  'level',\n",
       "  'quickly',\n",
       "  'complex',\n",
       "  'challenge',\n",
       "  'management',\n",
       "  'service',\n",
       "  'orient',\n",
       "  'person',\n",
       "  'think',\n",
       "  'fast',\n",
       "  'spirit',\n",
       "  'fast',\n",
       "  'pace',\n",
       "  'environment',\n",
       "  'continuous',\n",
       "  'improvement',\n",
       "  'quality',\n",
       "  'high',\n",
       "  'challenge',\n",
       "  'growth',\n",
       "  'additional',\n",
       "  'information',\n",
       "  'important',\n",
       "  'create',\n",
       "  'culture',\n",
       "  'make',\n",
       "  'meaningful',\n",
       "  'impact',\n",
       "  'life',\n",
       "  'employee',\n",
       "  'member',\n",
       "  'success',\n",
       "  'find',\n",
       "  'purpose',\n",
       "  'serve',\n",
       "  'make',\n",
       "  'difference',\n",
       "  'live',\n",
       "  'itxe2x80x99s',\n",
       "  'hard',\n",
       "  'right',\n",
       "  'thing',\n",
       "  'right',\n",
       "  'strong',\n",
       "  'wexe2x80x99re',\n",
       "  'trust',\n",
       "  'colleague',\n",
       "  'embrace',\n",
       "  'different',\n",
       "  'background',\n",
       "  'enable',\n",
       "  'solve',\n",
       "  'creative',\n",
       "  'way',\n",
       "  'fun',\n",
       "  'way',\n",
       "  'result',\n",
       "  'hard',\n",
       "  'decision',\n",
       "  'need',\n",
       "  'wexe2x80x99re',\n",
       "  'healthcare',\n",
       "  'were',\n",
       "  'curious',\n",
       "  'act',\n",
       "  'big',\n",
       "  'risk',\n",
       "  'change',\n",
       "  'world',\n",
       "  'person',\n",
       "  'time',\n",
       "  'information',\n",
       "  'eeo'],\n",
       " ['responsible',\n",
       "  'analyze',\n",
       "  'large',\n",
       "  'complex',\n",
       "  'dataset',\n",
       "  'identify',\n",
       "  'meaningful',\n",
       "  'pattern',\n",
       "  'lead',\n",
       "  'actionable',\n",
       "  'recommendation',\n",
       "  'perform',\n",
       "  'testing',\n",
       "  'validation',\n",
       "  'aspect',\n",
       "  'modeling',\n",
       "  'predictive',\n",
       "  'leverage',\n",
       "  'algorithm',\n",
       "  'position',\n",
       "  'combine',\n",
       "  'math',\n",
       "  'analytical',\n",
       "  'research',\n",
       "  'advanced',\n",
       "  'communication',\n",
       "  'presentation',\n",
       "  'primary',\n",
       "  'job',\n",
       "  'location',\n",
       "  'home',\n",
       "  'option',\n",
       "  'available',\n",
       "  'qualifications',\n",
       "  'ms',\n",
       "  'phd',\n",
       "  'relevant',\n",
       "  'field',\n",
       "  'computer',\n",
       "  'statistics',\n",
       "  'physics',\n",
       "  'applied',\n",
       "  'math',\n",
       "  'r',\n",
       "  'andor',\n",
       "  'prefer']]"
      ]
     },
     "execution_count": 46,
     "metadata": {},
     "output_type": "execute_result"
    }
   ],
   "source": [
    "vect.fit_transform(list(df[\"description\"]))[:3]"
   ]
  },
  {
   "cell_type": "code",
   "execution_count": 47,
   "metadata": {
    "colab": {},
    "colab_type": "code",
    "id": "sgQ93TR2ZEpn"
   },
   "outputs": [],
   "source": [
    "vect = nlp_utils.Scrubber(no_below=50, no_above=100)"
   ]
  },
  {
   "cell_type": "code",
   "execution_count": 48,
   "metadata": {
    "colab": {
     "base_uri": "https://localhost:8080/",
     "height": 1000
    },
    "colab_type": "code",
    "id": "hzBIKmHAZEpp",
    "outputId": "6e649fd9-52dd-473f-a471-c0bcc6ad4444"
   },
   "outputs": [
    {
     "data": {
      "text/plain": [
       "[['requirements',\n",
       "  'neural',\n",
       "  'hand',\n",
       "  'function',\n",
       "  'package',\n",
       "  'finding',\n",
       "  'non',\n",
       "  'hand',\n",
       "  'hive',\n",
       "  'similar',\n",
       "  'master',\n",
       "  'specific'],\n",
       " ['description',\n",
       "  '1',\n",
       "  'healthcare',\n",
       "  'empower',\n",
       "  'generation',\n",
       "  'small',\n",
       "  'agile',\n",
       "  'contribute',\n",
       "  'operate',\n",
       "  'collaborative',\n",
       "  'operate',\n",
       "  'meet',\n",
       "  'feature',\n",
       "  'efficiency',\n",
       "  'document',\n",
       "  'creative',\n",
       "  'masterxe2x80x99s',\n",
       "  'math',\n",
       "  '1',\n",
       "  'deploy',\n",
       "  'measure',\n",
       "  'open',\n",
       "  'framework',\n",
       "  'infrastructure',\n",
       "  'distribute',\n",
       "  'desire',\n",
       "  'agile',\n",
       "  'collaborative',\n",
       "  'flexible',\n",
       "  'orient',\n",
       "  'detail',\n",
       "  'orient',\n",
       "  'solid',\n",
       "  'quickly',\n",
       "  'orient',\n",
       "  'person',\n",
       "  'think',\n",
       "  'improvement',\n",
       "  'additional',\n",
       "  'culture',\n",
       "  'meaningful',\n",
       "  'success',\n",
       "  'serve',\n",
       "  'live',\n",
       "  'right',\n",
       "  'thing',\n",
       "  'right',\n",
       "  'different',\n",
       "  'creative',\n",
       "  'healthcare',\n",
       "  'risk',\n",
       "  'person']]"
      ]
     },
     "execution_count": 48,
     "metadata": {},
     "output_type": "execute_result"
    }
   ],
   "source": [
    "vect.fit_transform(list(df[\"description\"]))[:2]"
   ]
  },
  {
   "cell_type": "code",
   "execution_count": 1,
   "metadata": {
    "colab": {},
    "colab_type": "code",
    "id": "t79HtTs1ZEpr"
   },
   "outputs": [
    {
     "name": "stdout",
     "output_type": "stream",
     "text": [
      "fib(1): 1\n",
      "fib(2): 1\n",
      "fib(3): 2\n",
      "fib(4): 3\n",
      "fib(5): 5\n",
      "fib(6): 8\n",
      "fib(7): 13\n",
      "fib(8): 21\n",
      "fib(9): 34\n",
      "fib(10): 55\n"
     ]
    }
   ],
   "source": [
    "from five_one_one.c import cfib\n",
    "\n",
    "for x in range(1, 11):\n",
    "    print(f\"fib({x}): {cfib(x)}\")"
   ]
  },
  {
   "cell_type": "code",
   "execution_count": 2,
   "metadata": {},
   "outputs": [],
   "source": [
    "try:\n",
    "    cfib(\"trololo\", 15)\n",
    "    assert False\n",
    "except TypeError as e:\n",
    "    pass"
   ]
  },
  {
   "cell_type": "code",
   "execution_count": 3,
   "metadata": {},
   "outputs": [],
   "source": [
    "from five_one_one.wrapper import Vector"
   ]
  },
  {
   "cell_type": "code",
   "execution_count": 4,
   "metadata": {},
   "outputs": [],
   "source": [
    "v = Vector()"
   ]
  },
  {
   "cell_type": "code",
   "execution_count": 5,
   "metadata": {},
   "outputs": [],
   "source": [
    "v.append(1)"
   ]
  },
  {
   "cell_type": "code",
   "execution_count": 6,
   "metadata": {},
   "outputs": [
    {
     "data": {
      "text/plain": [
       "1"
      ]
     },
     "execution_count": 6,
     "metadata": {},
     "output_type": "execute_result"
    }
   ],
   "source": [
    "v.pop()"
   ]
  },
  {
   "cell_type": "code",
   "execution_count": 7,
   "metadata": {},
   "outputs": [
    {
     "data": {
      "text/plain": [
       "2"
      ]
     },
     "execution_count": 7,
     "metadata": {},
     "output_type": "execute_result"
    }
   ],
   "source": [
    "v.append(1)\n",
    "v.append(2)\n",
    "v.append(3)\n",
    "\n",
    "v.pop(1)"
   ]
  },
  {
   "cell_type": "code",
   "execution_count": 8,
   "metadata": {},
   "outputs": [
    {
     "data": {
      "text/plain": [
       "3"
      ]
     },
     "execution_count": 8,
     "metadata": {},
     "output_type": "execute_result"
    }
   ],
   "source": [
    "v.pop()"
   ]
  },
  {
   "cell_type": "code",
   "execution_count": 9,
   "metadata": {},
   "outputs": [],
   "source": [
    "v = Vector(range(10))"
   ]
  },
  {
   "cell_type": "code",
   "execution_count": 10,
   "metadata": {},
   "outputs": [
    {
     "data": {
      "text/plain": [
       "Vector([0, 1, 2, 3, 4, 5, 6, 7, 8, 9, ])"
      ]
     },
     "execution_count": 10,
     "metadata": {},
     "output_type": "execute_result"
    }
   ],
   "source": [
    "v"
   ]
  },
  {
   "cell_type": "code",
   "execution_count": 11,
   "metadata": {},
   "outputs": [
    {
     "data": {
      "text/plain": [
       "3"
      ]
     },
     "execution_count": 11,
     "metadata": {},
     "output_type": "execute_result"
    }
   ],
   "source": [
    "v[3]"
   ]
  },
  {
   "cell_type": "code",
   "execution_count": 12,
   "metadata": {},
   "outputs": [
    {
     "name": "stdout",
     "output_type": "stream",
     "text": [
      "0\n",
      "1\n",
      "2\n",
      "3\n",
      "4\n",
      "5\n",
      "6\n",
      "7\n",
      "8\n",
      "9\n"
     ]
    }
   ],
   "source": [
    "for x in v:\n",
    "    print(x)"
   ]
  },
  {
   "cell_type": "code",
   "execution_count": 13,
   "metadata": {},
   "outputs": [
    {
     "data": {
      "text/plain": [
       "Vector([0, 1, 2, 3, 4, 5, 6, 7, 8, 9, ])"
      ]
     },
     "execution_count": 13,
     "metadata": {},
     "output_type": "execute_result"
    }
   ],
   "source": [
    "v"
   ]
  },
  {
   "cell_type": "code",
   "execution_count": 14,
   "metadata": {},
   "outputs": [
    {
     "data": {
      "text/plain": [
       "Vector([9, 8, 7, 6, 5, 4, 3, 2, 1, 0, ])"
      ]
     },
     "execution_count": 14,
     "metadata": {},
     "output_type": "execute_result"
    }
   ],
   "source": [
    "v.sort(reverse=True)\n",
    "v"
   ]
  },
  {
   "cell_type": "code",
   "execution_count": 15,
   "metadata": {},
   "outputs": [
    {
     "data": {
      "text/plain": [
       "Vector([0, 1, 2, 3, 4, 5, 6, 7, 8, 9, ])"
      ]
     },
     "execution_count": 15,
     "metadata": {},
     "output_type": "execute_result"
    }
   ],
   "source": [
    "v.sort(reverse=False)\n",
    "v"
   ]
  },
  {
   "cell_type": "code",
   "execution_count": 16,
   "metadata": {},
   "outputs": [
    {
     "data": {
      "text/plain": [
       "Vector([9, 8, 7, 6, 5, 4, 3, 2, 1, 0, ])"
      ]
     },
     "execution_count": 16,
     "metadata": {},
     "output_type": "execute_result"
    }
   ],
   "source": [
    "v.reverse()\n",
    "v"
   ]
  },
  {
   "cell_type": "code",
   "execution_count": 17,
   "metadata": {},
   "outputs": [
    {
     "data": {
      "text/plain": [
       "Vector([9, 8, 7, 6, 5, 4, 3, 2, 1, 0, ])"
      ]
     },
     "execution_count": 17,
     "metadata": {},
     "output_type": "execute_result"
    }
   ],
   "source": [
    "v"
   ]
  },
  {
   "cell_type": "code",
   "execution_count": 18,
   "metadata": {},
   "outputs": [],
   "source": [
    "v.remove(2)"
   ]
  },
  {
   "cell_type": "code",
   "execution_count": 19,
   "metadata": {},
   "outputs": [
    {
     "data": {
      "text/plain": [
       "Vector([9, 8, 7, 6, 5, 4, 3, 1, 0, ])"
      ]
     },
     "execution_count": 19,
     "metadata": {},
     "output_type": "execute_result"
    }
   ],
   "source": [
    "v"
   ]
  },
  {
   "cell_type": "code",
   "execution_count": 20,
   "metadata": {},
   "outputs": [
    {
     "data": {
      "text/plain": [
       "Vector([9, 8, 2, 7, 6, 5, 4, 3, 1, 0, ])"
      ]
     },
     "execution_count": 20,
     "metadata": {},
     "output_type": "execute_result"
    }
   ],
   "source": [
    "v.insert(2, 2)\n",
    "v"
   ]
  },
  {
   "cell_type": "code",
   "execution_count": 21,
   "metadata": {},
   "outputs": [
    {
     "data": {
      "text/plain": [
       "0"
      ]
     },
     "execution_count": 21,
     "metadata": {},
     "output_type": "execute_result"
    }
   ],
   "source": [
    "v[-1]"
   ]
  },
  {
   "cell_type": "code",
   "execution_count": 22,
   "metadata": {},
   "outputs": [
    {
     "data": {
      "text/plain": [
       "1"
      ]
     },
     "execution_count": 22,
     "metadata": {},
     "output_type": "execute_result"
    }
   ],
   "source": [
    "v.count(7)"
   ]
  },
  {
   "cell_type": "code",
   "execution_count": 23,
   "metadata": {},
   "outputs": [
    {
     "name": "stdout",
     "output_type": "stream",
     "text": [
      "(3,)\n"
     ]
    },
    {
     "data": {
      "text/plain": [
       "7"
      ]
     },
     "execution_count": 23,
     "metadata": {},
     "output_type": "execute_result"
    }
   ],
   "source": [
    "v.slice(3)"
   ]
  },
  {
   "cell_type": "code",
   "execution_count": 24,
   "metadata": {},
   "outputs": [
    {
     "name": "stdout",
     "output_type": "stream",
     "text": [
      "(3, 5)\n",
      "(3, 5)\n"
     ]
    },
    {
     "data": {
      "text/plain": [
       "Vector([7, 6, ])"
      ]
     },
     "execution_count": 24,
     "metadata": {},
     "output_type": "execute_result"
    }
   ],
   "source": [
    "v.slice(3, 5)"
   ]
  },
  {
   "cell_type": "code",
   "execution_count": 27,
   "metadata": {},
   "outputs": [
    {
     "name": "stdout",
     "output_type": "stream",
     "text": [
      "(7, 3, -1)\n"
     ]
    },
    {
     "data": {
      "text/plain": [
       "Vector([3, 4, 5, 6, ])"
      ]
     },
     "execution_count": 27,
     "metadata": {},
     "output_type": "execute_result"
    }
   ],
   "source": [
    "v.slice(7, 3, -1)"
   ]
  },
  {
   "cell_type": "code",
   "execution_count": 26,
   "metadata": {},
   "outputs": [
    {
     "data": {
      "text/plain": [
       "[5, 4]"
      ]
     },
     "execution_count": 26,
     "metadata": {},
     "output_type": "execute_result"
    }
   ],
   "source": [
    "l = [0, 1, 2, 3, 4, 5, 6, 7, 8, 9, ]\n",
    "l[-5:-7:-1]"
   ]
  },
  {
   "cell_type": "code",
   "execution_count": null,
   "metadata": {},
   "outputs": [],
   "source": []
  }
 ],
 "metadata": {
  "colab": {
   "name": "Untitled11.ipynb",
   "provenance": []
  },
  "kernelspec": {
   "display_name": "python3.8",
   "language": "python",
   "name": "python3.8"
  },
  "language_info": {
   "codemirror_mode": {
    "name": "ipython",
    "version": 3
   },
   "file_extension": ".py",
   "mimetype": "text/x-python",
   "name": "python",
   "nbconvert_exporter": "python",
   "pygments_lexer": "ipython3",
   "version": "3.8.12"
  }
 },
 "nbformat": 4,
 "nbformat_minor": 4
}
